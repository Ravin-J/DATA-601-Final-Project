{
 "cells": [
  {
   "cell_type": "code",
   "execution_count": 13,
   "metadata": {},
   "outputs": [
    {
     "data": {
      "text/html": [
       "<div>\n",
       "<style scoped>\n",
       "    .dataframe tbody tr th:only-of-type {\n",
       "        vertical-align: middle;\n",
       "    }\n",
       "\n",
       "    .dataframe tbody tr th {\n",
       "        vertical-align: top;\n",
       "    }\n",
       "\n",
       "    .dataframe thead th {\n",
       "        text-align: right;\n",
       "    }\n",
       "</style>\n",
       "<table border=\"1\" class=\"dataframe\">\n",
       "  <thead>\n",
       "    <tr style=\"text-align: right;\">\n",
       "      <th></th>\n",
       "      <th>Station Name</th>\n",
       "      <th>Date (Local Standard Time)</th>\n",
       "      <th>Air Temp. Avg. (°C)</th>\n",
       "    </tr>\n",
       "  </thead>\n",
       "  <tbody>\n",
       "    <tr>\n",
       "      <th>0</th>\n",
       "      <td>Calgary Int'L CS</td>\n",
       "      <td>January-2018</td>\n",
       "      <td>-6.9</td>\n",
       "    </tr>\n",
       "    <tr>\n",
       "      <th>1</th>\n",
       "      <td>Calgary Int'L CS</td>\n",
       "      <td>February-2018</td>\n",
       "      <td>-12.4</td>\n",
       "    </tr>\n",
       "    <tr>\n",
       "      <th>2</th>\n",
       "      <td>Calgary Int'L CS</td>\n",
       "      <td>March-2018</td>\n",
       "      <td>-5.8</td>\n",
       "    </tr>\n",
       "    <tr>\n",
       "      <th>3</th>\n",
       "      <td>Calgary Int'L CS</td>\n",
       "      <td>April-2018</td>\n",
       "      <td>1.0</td>\n",
       "    </tr>\n",
       "    <tr>\n",
       "      <th>4</th>\n",
       "      <td>Calgary Int'L CS</td>\n",
       "      <td>May-2018</td>\n",
       "      <td>14.1</td>\n",
       "    </tr>\n",
       "  </tbody>\n",
       "</table>\n",
       "</div>"
      ],
      "text/plain": [
       "       Station Name Date (Local Standard Time)  Air Temp. Avg. (°C)\n",
       "0  Calgary Int'L CS               January-2018                 -6.9\n",
       "1  Calgary Int'L CS              February-2018                -12.4\n",
       "2  Calgary Int'L CS                 March-2018                 -5.8\n",
       "3  Calgary Int'L CS                 April-2018                  1.0\n",
       "4  Calgary Int'L CS                   May-2018                 14.1"
      ]
     },
     "metadata": {},
     "output_type": "display_data"
    }
   ],
   "source": [
    "import pandas as pd\n",
    "\n",
    "calgary_weather_data_one_path = \"./datasets/calgary_weather_data_20180101_20220101.csv\"\n",
    "calgary_weather_data_two_path = \"./datasets/calgary_weather_data_20220101_20250101.csv\"\n",
    "\n",
    "cw1_df = pd.read_csv(calgary_weather_data_one_path, encoding=\"latin-1\")\n",
    "cw2_df = pd.read_csv(calgary_weather_data_two_path, encoding=\"latin-1\")\n",
    "\n",
    "cw1_df = cw1_df[[\"Station Name\", \"Date (Local Standard Time)\", \"Air Temp. Avg. (°C)\"]]\n",
    "cw2_df = cw2_df[[\"Station Name\", \"Date (Local Standard Time)\", \"Air Temp. Avg. (°C)\"]]\n",
    "\n",
    "cw_df = pd.concat([cw1_df, cw2_df],  ignore_index=True)\n",
    "display(cw_df.head())\n"
   ]
  },
  {
   "cell_type": "code",
   "execution_count": null,
   "metadata": {},
   "outputs": [],
   "source": []
  }
 ],
 "metadata": {
  "kernelspec": {
   "display_name": "Python 3 (ipykernel)",
   "language": "python",
   "name": "python3"
  },
  "language_info": {
   "codemirror_mode": {
    "name": "ipython",
    "version": 3
   },
   "file_extension": ".py",
   "mimetype": "text/x-python",
   "name": "python",
   "nbconvert_exporter": "python",
   "pygments_lexer": "ipython3",
   "version": "3.12.7"
  }
 },
 "nbformat": 4,
 "nbformat_minor": 4
}
