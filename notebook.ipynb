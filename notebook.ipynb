{
 "cells": [
  {
   "cell_type": "code",
   "execution_count": null,
   "metadata": {},
   "outputs": [
    {
     "ename": "",
     "evalue": "",
     "output_type": "error",
     "traceback": [
      "\u001b[1;31mRunning cells with 'Python 3.13.1' requires the ipykernel package.\n",
      "\u001b[1;31mRun the following command to install 'ipykernel' into the Python environment. \n",
      "\u001b[1;31mCommand: '/opt/homebrew/bin/python3 -m pip install ipykernel -U --user --force-reinstall'"
     ]
    }
   ],
   "source": [
    "import pandas as pd\n",
    "\n",
    "calgary_weather_data_one_path = \"./datasets/calgary_weather_data_20180101_20220101.csv\"\n",
    "calgary_weather_data_two_path = \"./datasets/calgary_weather_data_20220101_20250101.csv\"\n",
    "\n",
    "cw1_df = pd.read_csv(calgary_weather_data_one_path, encoding=\"latin-1\")\n",
    "cw2_df = pd.read_csv(calgary_weather_data_two_path, encoding=\"latin-1\")\n",
    "\n",
    "cw1_df = cw1_df[[\"Station Name\", \"Date (Local Standard Time)\", \"Air Temp. Avg. (°C)\"]]\n",
    "cw2_df = cw2_df[[\"Station Name\", \"Date (Local Standard Time)\", \"Air Temp. Avg. (°C)\"]]\n",
    "\n",
    "cw_df = pd.concat([cw1_df, cw2_df],  ignore_index=True)\n",
    "display(cw_df.head())\n"
   ]
  },
  {
   "cell_type": "code",
   "execution_count": null,
   "metadata": {},
   "outputs": [],
   "source": [
    "community_crime_statistics_calgary_path = \"./datasets/community_crime_statistics_calgary.csv\"\n",
    "\n",
    "ccsc_df = pd.read_csv(community_crime_statistics_calgary_path)\n",
    "\n",
    "\n",
    "display (ccsc_df)"
   ]
  },
  {
   "cell_type": "code",
   "execution_count": null,
   "metadata": {},
   "outputs": [
    {
     "ename": "",
     "evalue": "",
     "output_type": "error",
     "traceback": [
      "\u001b[1;31mRunning cells with 'Python 3.13.1' requires the ipykernel package.\n",
      "\u001b[1;31mRun the following command to install 'ipykernel' into the Python environment. \n",
      "\u001b[1;31mCommand: '/opt/homebrew/bin/python3 -m pip install ipykernel -U --user --force-reinstall'"
     ]
    }
   ],
   "source": [
    "communities_by_ward_calgary_path = \"./datasets/communities_by_ward_calgary.csv\"\n",
    "coms_ward_df = pd.read_csv(communities_by_ward_calgary_path)\n",
    "\n",
    "display(coms_ward_df)\n"
   ]
  }
 ],
 "metadata": {
  "kernelspec": {
   "display_name": "Python 3",
   "language": "python",
   "name": "python3"
  },
  "language_info": {
   "codemirror_mode": {
    "name": "ipython",
    "version": 3
   },
   "file_extension": ".py",
   "mimetype": "text/x-python",
   "name": "python",
   "nbconvert_exporter": "python",
   "pygments_lexer": "ipython3",
   "version": "3.13.1"
  }
 },
 "nbformat": 4,
 "nbformat_minor": 4
}
